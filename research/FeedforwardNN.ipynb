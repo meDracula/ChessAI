{
 "cells": [
  {
   "cell_type": "markdown",
   "id": "6c3dcc89-af3f-442c-84ad-642fc219f5c8",
   "metadata": {},
   "source": [
    "# Feedforward Nerual Network ( FNN )\n",
    "\n",
    "Feedforward is the simplest form of neural network. \n",
    "The neural network passes infromation as a one way direction feed from to the input neurons and passed through \n",
    "every hidden layer until ending up at the output layer where the vector is returned.\n",
    "What makes a feedforward neural network is that it does not cycle bewteen connections as recurrent neural network do.\n",
    "While data will go through multiple layers it will only happend to end up at that layer ones and then be feed forward to the next."
   ]
  },
  {
   "cell_type": "markdown",
   "id": "173bd6de-c1d8-4cba-8517-b12dd169e850",
   "metadata": {},
   "source": [
    "## Activation Function\n",
    "In an artifical neural network, the activation function of a neuron defines the output of that neuron given a set of weighted sum of its input. \n",
    "These weighted sum of its input values which are feed to the activation function. \n",
    "\n",
    "A activation function transform the output value to a state of logical operation\n",
    "for the next neuron to interpert if using the output or discarding the output.\n",
    "\n",
    "### ReLU\n",
    "ReLU is a simple activation function that is used to determine if the neuron \n",
    "should use the value. \n",
    "It achives this by reciving a numerical value $z$ where $z \\in R$ and have been\n",
    "computed from $z = w*x+b$. The z is feed to the ReLU function:\n",
    "$$ReLU(z)= max(0,z)$$\n",
    "What this function state is that if a x value is less than zero then return zero.\n",
    "Otherwise $z = ReLU(z)$.\n",
    "\n",
    "### Sigmoid\n",
    "Sigmoid functions is a logistic function.\n",
    "Logistic regression is a technique to predict the otucome of binary classifictation problems.\n",
    "In the case of a activation function it then takes a weighted sum of the input features as\n",
    "an input and outputs the probability value of the outcome.\n",
    "\n",
    "The mathematical formula of sigmoid:\n",
    "$$S(z) = \\frac{1}{1 + e^{-z}} $$\n"
   ]
  },
  {
   "cell_type": "markdown",
   "id": "698253a5-d048-455f-aa3a-fb66fa09e726",
   "metadata": {},
   "source": [
    "## Neural Network"
   ]
  },
  {
   "cell_type": "code",
   "execution_count": 2,
   "id": "37ab3b57-9c1c-487a-8273-57c5d1b2d151",
   "metadata": {},
   "outputs": [],
   "source": [
    "import numpy as np\n",
    "import torch\n",
    "import torch.nn as nn\n",
    "import torch.nn.functional as F\n",
    "import torch.optim as optim"
   ]
  },
  {
   "cell_type": "code",
   "execution_count": 24,
   "id": "45aab0f3-a1c7-4d74-b765-451a7e6d9ef6",
   "metadata": {},
   "outputs": [],
   "source": [
    "class NeuralNetwork(nn.Module):\n",
    "    def __init__(self, n_inputs=2, h_layer=3, n_neurons=10, n_output=1):\n",
    "        super().__init__()\n",
    "\n",
    "        self.activation = nn.Sigmoid()\n",
    "        \n",
    "        # Input layer\n",
    "        self.input_layer = nn.Linear(n_inputs, n_neurons) # Inputs 1 card\n",
    "\n",
    "        # Hidden layers\n",
    "        self.hidden_layer = [nn.Linear(n_neurons, n_neurons) for _ in range(h_layer)]\n",
    "\n",
    "        # Output layer\n",
    "        self.output_layer = nn.Linear(n_neurons, n_output) # Output: call or fold -> 2 classes call, fold\n",
    "\n",
    "    def forward(self, x):\n",
    "        x = F.relu(self.input_layer(x))\n",
    "\n",
    "        for layer in self.hidden_layer:\n",
    "            x = F.relu(layer(x))\n",
    "\n",
    "        output = self.output_layer(x)\n",
    "        \n",
    "        return self.activation(output)"
   ]
  },
  {
   "cell_type": "markdown",
   "id": "699e4a9e-be9d-494b-a5a5-4dc303abd8e8",
   "metadata": {},
   "source": [
    "## Kuhn Poker\n",
    "Kuhn poker is an extremely simplified form of poker.\n",
    "Kuhn as a simple model zero-sum two-player imperfect-information game. \n",
    "Which has a nash equilbrium strategy in playing this game.<br>\n",
    "In Kuhn poker, the deck includes only three playing cards, in this deck there will be a King, Queen and Jack. \n",
    "\n",
    "* Play:\n",
    "    - One card is dealt to each player, which may place bets similarly to a standard poker. Both player have now the option to either bet or pass.\n",
    "    - If both players bet or both players pass, the player with the higher card wins, otherwise, the betting player wins."
   ]
  },
  {
   "cell_type": "code",
   "execution_count": 7,
   "id": "0a9d01af-e783-4051-b485-33c3b9897ca9",
   "metadata": {},
   "outputs": [],
   "source": [
    "from kuhn import Kuhn"
   ]
  },
  {
   "cell_type": "code",
   "execution_count": 8,
   "id": "f94cb102-65d3-4eca-8843-1d505fe2fe9a",
   "metadata": {},
   "outputs": [
    {
     "name": "stdout",
     "output_type": "stream",
     "text": [
      "Our human card J\n",
      "\n",
      "Hands human: J and bot: K \n",
      "Winner is: bot\n"
     ]
    }
   ],
   "source": [
    "# Setup\n",
    "kuhn = Kuhn()\n",
    "kuhn.new_match(\"human\",\"bot\")\n",
    "\n",
    "# First round / Pre showdown\n",
    "hands = kuhn.pre_showdown()\n",
    "\n",
    "# Our hand\n",
    "print(\"Our human card\", hands[\"human\"])\n",
    "\n",
    "# Showdown\n",
    "winner = kuhn.showdown()\n",
    "print(f\"\\nHands human: {hands['human']} and bot: {hands['bot']}\", \"\\nWinner is:\", winner)"
   ]
  },
  {
   "cell_type": "markdown",
   "id": "cf7ca724-2b41-4611-ae60-6738173c817d",
   "metadata": {},
   "source": [
    "## Training"
   ]
  },
  {
   "cell_type": "code",
   "execution_count": 33,
   "id": "230181b7-fa16-4d34-bc14-d22a077dd059",
   "metadata": {},
   "outputs": [],
   "source": [
    "def card_compute(card, hand):\n",
    "    return Kuhn.deck_value[hands]\n",
    "\n",
    "def expected_outcome(hands, player, opponent):\n",
    "    prophecy = {('J', 'Q'): (0, 0), \n",
    "                ('J', 'K'): (0, 0), \n",
    "                ('Q', 'J'): (1, 1),\n",
    "                ('Q', 'K'): (1, 0),\n",
    "                ('K', 'J'): (1, 1),\n",
    "                ('K', 'Q'): (1, 1)}\n",
    "    cards = (hands[player], hands[opponent])\n",
    "    return prophecy[cards]\n",
    "\n",
    "def clear_output(output):\n",
    "    return 1 if output > 0.5 else 0\n",
    "\n",
    "def reward(expected_outcome, outcome_all):\n",
    "    REWARD_CONSTANT = 0.3 # Used to control reward\n",
    "    clear_outcome_all = [clear_output(outcome) for outcome in outcome_all]\n",
    "    idx = next((i for i in range(len(outcome_all)) if clear_outcome_all[i] != expected_outcome[i]), len(outcome_all))\n",
    "    return  -REWARD_CONSTANT if (len(outcome_all) - idx) == 0 else (len(outcome_all) - idx)*REWARD_CONSTANT # Reward or Penalty"
   ]
  },
  {
   "cell_type": "code",
   "execution_count": 13,
   "id": "24831f82-94b3-4b35-a5ac-abe72c819455",
   "metadata": {},
   "outputs": [
    {
     "name": "stdout",
     "output_type": "stream",
     "text": [
      "===== New Match =====\n",
      "{'human': 'J', 'bot': 'Q'} (1, 1)\n",
      "showdown: bot\n",
      "===== New Match =====\n",
      "{'human': 'J', 'bot': 'Q'} (1, 1)\n",
      "showdown: bot\n",
      "===== New Match =====\n",
      "{'human': 'J', 'bot': 'Q'} (1, 1)\n",
      "showdown: bot\n"
     ]
    }
   ],
   "source": [
    "kuhn = Kuhn()\n",
    "for _ in range(3):\n",
    "    print(5*\"=\",\"New Match\", \"=\"*5)\n",
    "    kuhn.new_match(\"human\", \"bot\")\n",
    "    hands = kuhn.pre_showdown()\n",
    "    print(hands, expected_outcome(hands, \"bot\", \"human\"))\n",
    "    winner = kuhn.showdown()\n",
    "    print(\"showdown:\", winner)"
   ]
  },
  {
   "cell_type": "code",
   "execution_count": 36,
   "id": "a8b1e5a0-d260-4d0c-89fa-6d9d285bb007",
   "metadata": {
    "tags": []
   },
   "outputs": [],
   "source": [
    "def train(model, epochs):\n",
    "    optimizer = optim.Adam(model.parameters(), lr=0.001)\n",
    "    loss = nn.BCELoss()\n",
    "    kuhn = Kuhn()\n",
    "\n",
    "    for epoch in range(epochs):\n",
    "        print(5*\"=\", f\"Epoch {epoch+1}\", \"=\"*5)\n",
    "        # Game new match setup\n",
    "        kuhn.new_match(\"human\", \"bot\")\n",
    "        hands = kuhn.pre_showdown()\n",
    "        print(f\"HANDS: bot: {hands['bot']}, human: {hands['human']}\")\n",
    "        \n",
    "        model.zero_grad()\n",
    "\n",
    "        y = torch.tensor(expected_outcome(hands, \"bot\", \"human\"), dtype=torch.float)\n",
    "\n",
    "        outcome_all = []\n",
    "        for i in range(2):\n",
    "            X = torch.tensor([Kuhn.deck_value[hands[\"bot\"]], i], dtype=torch.float, requires_grad=True)\n",
    "            output = model(X)\n",
    "            outcome_all.append(output)\n",
    "    \n",
    "            # FOLD\n",
    "            if clear_output(output) == 0: break\n",
    "\n",
    "        if len(outcome_all) == 2:\n",
    "            winner = kuhn.showdown()\n",
    "            print(f\"Winner: {winner}\")\n",
    "        else:\n",
    "            print(f'Folded round: {len(outcome_all)}')\n",
    "            outcome_all.append(torch.tensor([0.], dtype=torch.float, requires_grad=True))\n",
    "        \n",
    "        outcome_all = torch.cat(outcome_all)\n",
    "        print(f\"outcome all: {outcome_all}\")\n",
    "        \n",
    "        output = loss(outcome_all, y)\n",
    "\n",
    "        # Introduce penalty and reward\n",
    "        output += reward(y, outcome_all)\n",
    "\n",
    "        print(f'Loss: {output}')\n",
    "        \n",
    "        output.backward()\n",
    "        optimizer.step()"
   ]
  },
  {
   "cell_type": "markdown",
   "id": "e9eecbf6-c80f-46f7-8483-60b872c8a910",
   "metadata": {},
   "source": [
    "### Training"
   ]
  },
  {
   "cell_type": "code",
   "execution_count": 37,
   "id": "a7ebb722-b9c2-4ff1-84ff-11af3cf81263",
   "metadata": {
    "tags": []
   },
   "outputs": [
    {
     "name": "stdout",
     "output_type": "stream",
     "text": [
      "===== Neural Network =====\n",
      "NeuralNetwork(\n",
      "  (activation): Sigmoid()\n",
      "  (input_layer): Linear(in_features=2, out_features=10, bias=True)\n",
      "  (output_layer): Linear(in_features=10, out_features=1, bias=True)\n",
      ")\n",
      "===== Epoch 1 =====\n",
      "HANDS: bot: K, human: J\n",
      "Folded round: 1\n",
      "outcome all: tensor([0.3773, 0.0000], grad_fn=<CatBackward0>)\n",
      "Loss: 51.08730697631836\n",
      "===== Epoch 2 =====\n",
      "HANDS: bot: K, human: J\n",
      "Folded round: 1\n",
      "outcome all: tensor([0.3779, 0.0000], grad_fn=<CatBackward0>)\n",
      "Loss: 51.086578369140625\n",
      "===== Epoch 3 =====\n",
      "HANDS: bot: Q, human: K\n",
      "Folded round: 1\n",
      "outcome all: tensor([0.3862, 0.0000], grad_fn=<CatBackward0>)\n",
      "Loss: 1.0757286548614502\n",
      "===== Epoch 4 =====\n",
      "HANDS: bot: Q, human: K\n",
      "Folded round: 1\n",
      "outcome all: tensor([0.3867, 0.0000], grad_fn=<CatBackward0>)\n",
      "Loss: 1.0750821828842163\n",
      "===== Epoch 5 =====\n",
      "HANDS: bot: K, human: Q\n",
      "Folded round: 1\n",
      "outcome all: tensor([0.3795, 0.0000], grad_fn=<CatBackward0>)\n",
      "Loss: 51.08442306518555\n",
      "===== Epoch 6 =====\n",
      "HANDS: bot: Q, human: K\n",
      "Folded round: 1\n",
      "outcome all: tensor([0.3877, 0.0000], grad_fn=<CatBackward0>)\n",
      "Loss: 1.0738134384155273\n",
      "===== Epoch 7 =====\n",
      "HANDS: bot: Q, human: K\n",
      "Folded round: 1\n",
      "outcome all: tensor([0.3881, 0.0000], grad_fn=<CatBackward0>)\n",
      "Loss: 1.0731898546218872\n",
      "===== Epoch 8 =====\n",
      "HANDS: bot: Q, human: J\n",
      "Folded round: 1\n",
      "outcome all: tensor([0.3886, 0.0000], grad_fn=<CatBackward0>)\n",
      "Loss: 51.072566986083984\n",
      "===== Epoch 9 =====\n",
      "HANDS: bot: Q, human: K\n",
      "Folded round: 1\n",
      "outcome all: tensor([0.3891, 0.0000], grad_fn=<CatBackward0>)\n",
      "Loss: 1.0719494819641113\n",
      "===== Epoch 10 =====\n",
      "HANDS: bot: J, human: K\n",
      "Folded round: 1\n",
      "outcome all: tensor([0.3944, 0.0000], grad_fn=<CatBackward0>)\n",
      "Loss: -0.0492035448551178\n"
     ]
    }
   ],
   "source": [
    "EPOCHS = 10\n",
    "net = NeuralNetwork()\n",
    "print(5*\"=\", f\"Neural Network\", \"=\"*5)\n",
    "print(net)\n",
    "train(net, EPOCHS)"
   ]
  },
  {
   "cell_type": "markdown",
   "id": "320bb13f-8a94-4e1a-938e-113ed54a48aa",
   "metadata": {
    "jp-MarkdownHeadingCollapsed": true,
    "tags": []
   },
   "source": [
    "## Loss functions\n",
    "A loss function is takes the output of a neural network and quantifies it against\n",
    "the expected outcome. This quantification gives inreturn a way of determining how wrong\n",
    "the model(neural network) got. \n",
    "By minimizing loss from the function the model will be better at predicting what the \n",
    "execpted output should be. \n",
    "Loss functions are plurar because there are many different functions that tender to a specific tagreted model predictive output and exepcted output.\n",
    "\n",
    "In the kuhn poker model the question the model has to learn is the card I posses a good card.\n",
    "And thefore should the model fold or call?\n",
    "\n",
    "A fold or call question is the output the model returns and this is refered to as a classification problem. But not just a classification due to the seens of the model only having the choose between fold or call is a binary classifictation.\n",
    "Then a prefered loss function choosen here is called Binay Cross-Entropy.\n",
    "\n",
    "### Binay Cross-Entropy\n",
    "Binay Cross-Entropy or BCELoss for short in Pytorch library.\n",
    "BCELoss is a special case of Cross-Entropy loss when there are only two classifactations.\n",
    "Binay Cross-Entropy presupooses that x and y are probabilites and strictily between 0 and 1.\n",
    "BCELoss creates a standard on which a judgement for the loss will be based on.\n",
    "The standard is measured between the target probabilities and the input probabilities.\n",
    "The mathematics of BCELoss is:\n",
    "$$L = \\{l_1, ..., l_N\\}^T$$ \n",
    "* Where:\n",
    "    - N is the batch size. \n",
    "    - $l_n$ is: \n",
    "$$ l_n = -w_n[y_n * log(x_n) + (1 - y_n) * log(1-x_n)]$$\n",
    "\n",
    "Observe that if $x_n$ is either 0 or 1 by the fact of it being a binary classification.\n",
    "If either $y_n=0$ or $(1 - y_n) = 0$ then on of the terms in $l_n$ will be zero.\n",
    "Example is $y_n = 0$ then $l_n = -w[0 * log(x_n) + (1 - 0) * log(1-x_n)]$\n",
    "\n",
    "The BCELoss is designed for binary classifactation when it exsist a distribution of measured\n",
    "uncertainty to classify."
   ]
  },
  {
   "cell_type": "markdown",
   "id": "e2a6fce5-955f-4f44-9fc7-2ee2c8cb382f",
   "metadata": {},
   "source": [
    "## Testing"
   ]
  },
  {
   "cell_type": "code",
   "execution_count": 182,
   "id": "c58e3b62-78a0-4135-a59f-f783b098708f",
   "metadata": {},
   "outputs": [
    {
     "name": "stdout",
     "output_type": "stream",
     "text": [
      "========== Playing ==========\n",
      "human: K, bot: J and bot result human\n",
      "human: K, bot: J and bot result human\n",
      "human: J, bot: K and bot result bot\n",
      "human: Q, bot: J and bot result human\n",
      "human: J, bot: Q and bot result bot\n",
      "human: J, bot: Q and bot result bot\n",
      "human: J, bot: K and bot result bot\n",
      "human: K, bot: J and bot result human\n",
      "human: J, bot: Q and bot result bot\n",
      "human: K, bot: J and bot result human\n",
      "human: K, bot: J and bot result human\n",
      "human: J, bot: Q and bot result bot\n",
      "human: K, bot: J and bot result human\n",
      "human: J, bot: Q and bot result bot\n",
      "human: Q, bot: J and bot result human\n",
      "human: K, bot: J and bot result human\n",
      "human: Q, bot: K and bot result bot\n",
      "human: Q, bot: K and bot result bot\n",
      "human: K, bot: Q and bot result human\n",
      "human: Q, bot: J and bot result human\n",
      "human: K, bot: Q and bot result human\n",
      "human: K, bot: J and bot result human\n",
      "human: J, bot: K and bot result bot\n",
      "human: K, bot: Q and bot result human\n",
      "human: K, bot: Q and bot result human\n",
      "human: J, bot: Q and bot result bot\n",
      "human: Q, bot: K and bot result bot\n",
      "human: J, bot: Q and bot result bot\n",
      "human: K, bot: Q and bot result human\n",
      "human: J, bot: K and bot result bot\n",
      "human: Q, bot: K and bot result bot\n",
      "human: J, bot: K and bot result bot\n",
      "human: Q, bot: J and bot result human\n",
      "human: K, bot: J and bot result human\n",
      "human: J, bot: Q and bot result bot\n",
      "human: J, bot: K and bot result bot\n",
      "human: K, bot: J and bot result human\n",
      "human: Q, bot: K and bot result bot\n",
      "human: K, bot: J and bot result human\n",
      "human: J, bot: K and bot result bot\n",
      "human: J, bot: K and bot result bot\n",
      "human: J, bot: Q and bot result bot\n",
      "human: Q, bot: J and bot result human\n",
      "human: Q, bot: K and bot result bot\n",
      "human: Q, bot: K and bot result bot\n",
      "human: J, bot: Q and bot result bot\n",
      "human: J, bot: K and bot result bot\n",
      "human: J, bot: K and bot result bot\n",
      "human: J, bot: Q and bot result bot\n",
      "human: J, bot: K and bot result bot\n",
      "========== Summary ==========\n",
      "win :  29\n",
      "draw:  0\n",
      "loss:  21\n"
     ]
    }
   ],
   "source": [
    "print(10*\"=\", \"Playing\", \"=\"*10)\n",
    "#NeuralNetwork(n_inputs=2, h_layer=3, n_neurons=7, n_output=2)\n",
    "\n",
    "kuhn = Kuhn()\n",
    "matches = 50\n",
    "w, l, d = 0, 0, 0\n",
    "\n",
    "for _ in range(matches):\n",
    "    kuhn.new_match(\"human\", \"bot\")\n",
    "    \n",
    "    hands = kuhn.pre_showdown()\n",
    "    \n",
    "    for i in range(2):\n",
    "        X = torch.tensor([Kuhn.deck_value[hands[\"bot\"]], i], dtype=torch.float)\n",
    "        output = net(X)\n",
    "        \n",
    "        # FOLD\n",
    "        if clear_output(output) == [0, 1]:\n",
    "            winner = \"fold\"\n",
    "            d += 1\n",
    "            break\n",
    "\n",
    "        if i == 1: # -> winner\n",
    "            winner = kuhn.showdown()\n",
    "            if winner == \"bot\":\n",
    "                w += 1\n",
    "            else:\n",
    "                l += 1\n",
    "\n",
    "    print(f\"human: {hands['human']}, bot: {hands['bot']} and bot result\", winner)\n",
    "\n",
    "print(10*\"=\", \"Summary\", \"=\"*10)\n",
    "print('win : ',w)\n",
    "print('draw: ',d)\n",
    "print('loss: ',l)"
   ]
  }
 ],
 "metadata": {
  "kernelspec": {
   "display_name": "Python 3 (ipykernel)",
   "language": "python",
   "name": "python3"
  },
  "language_info": {
   "codemirror_mode": {
    "name": "ipython",
    "version": 3
   },
   "file_extension": ".py",
   "mimetype": "text/x-python",
   "name": "python",
   "nbconvert_exporter": "python",
   "pygments_lexer": "ipython3",
   "version": "3.10.4"
  }
 },
 "nbformat": 4,
 "nbformat_minor": 5
}
